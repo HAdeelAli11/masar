{
  "nbformat": 4,
  "nbformat_minor": 0,
  "metadata": {
    "colab": {
      "provenance": [],
      "authorship_tag": "ABX9TyPD9hmIgeybOBGfXgCwa96J",
      "include_colab_link": true
    },
    "kernelspec": {
      "name": "python3",
      "display_name": "Python 3"
    },
    "language_info": {
      "name": "python"
    }
  },
  "cells": [
    {
      "cell_type": "markdown",
      "metadata": {
        "id": "view-in-github",
        "colab_type": "text"
      },
      "source": [
        "<a href=\"https://colab.research.google.com/github/HAdeelAli11/masar/blob/main/My1stCodeInPython_Masar_ipynb.ipynb\" target=\"_parent\"><img src=\"https://colab.research.google.com/assets/colab-badge.svg\" alt=\"Open In Colab\"/></a>"
      ]
    },
    {
      "cell_type": "code",
      "execution_count": 1,
      "metadata": {
        "colab": {
          "base_uri": "https://localhost:8080/"
        },
        "id": "wOWkMxDIFkl8",
        "outputId": "edae71f8-9547-4558-e345-149f4670ca34"
      },
      "outputs": [
        {
          "output_type": "stream",
          "name": "stdout",
          "text": [
            "Hadeel\n"
          ]
        }
      ],
      "source": [
        "print (\"Hadeel\")"
      ]
    },
    {
      "cell_type": "code",
      "source": [
        "a = 1\n",
        "print(a)"
      ],
      "metadata": {
        "colab": {
          "base_uri": "https://localhost:8080/"
        },
        "id": "4jwjjBEfNjGY",
        "outputId": "ae1bb6ff-02f5-4ba0-e383-325ca6825a15"
      },
      "execution_count": 2,
      "outputs": [
        {
          "output_type": "stream",
          "name": "stdout",
          "text": [
            "1\n"
          ]
        }
      ]
    },
    {
      "cell_type": "code",
      "source": [
        "name ='Hadeel '\n",
        "\n",
        "age = 28\n",
        "age = str(age)\n",
        "print('My name is ' + name ,', my age is ' + age)"
      ],
      "metadata": {
        "colab": {
          "base_uri": "https://localhost:8080/"
        },
        "id": "f9_qwwkROdFe",
        "outputId": "2b695be1-aa4d-4ab6-c882-65c31c34abdd"
      },
      "execution_count": 12,
      "outputs": [
        {
          "output_type": "stream",
          "name": "stdout",
          "text": [
            "My name is Hadeel  , my age is 28\n"
          ]
        }
      ]
    }
  ]
}