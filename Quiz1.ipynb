{
  "nbformat": 4,
  "nbformat_minor": 0,
  "metadata": {
    "colab": {
      "provenance": [],
      "authorship_tag": "ABX9TyMXasGZNact3jvg9e7cX0Uu",
      "include_colab_link": true
    },
    "kernelspec": {
      "name": "python3",
      "display_name": "Python 3"
    },
    "language_info": {
      "name": "python"
    }
  },
  "cells": [
    {
      "cell_type": "markdown",
      "metadata": {
        "id": "view-in-github",
        "colab_type": "text"
      },
      "source": [
        "<a href=\"https://colab.research.google.com/github/HAdeelAli11/masar/blob/main/Quiz1.ipynb\" target=\"_parent\"><img src=\"https://colab.research.google.com/assets/colab-badge.svg\" alt=\"Open In Colab\"/></a>"
      ]
    },
    {
      "cell_type": "code",
      "execution_count": 4,
      "metadata": {
        "id": "xApMGfTUxSrp"
      },
      "outputs": [],
      "source": [
        "from typing import List\n",
        "class Solution:\n",
        "  x =(List)\n",
        "def twoSum(self, nums: List[int], target: int) -> List[int]:\n",
        "       seen = {}\n",
        "       for i, value in enumerate(nums):\n",
        "           remaining = target - nums[i]\n",
        "\n",
        "           if remaining in seen:\n",
        "               return [i, seen[remaining]]\n",
        "\n",
        "           seen[value] = i"
      ]
    }
  ]
}