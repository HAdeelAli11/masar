{
  "nbformat": 4,
  "nbformat_minor": 0,
  "metadata": {
    "colab": {
      "provenance": [],
      "authorship_tag": "ABX9TyN7ZPDHTcYHrzOnBMPJN5hm",
      "include_colab_link": true
    },
    "kernelspec": {
      "name": "python3",
      "display_name": "Python 3"
    },
    "language_info": {
      "name": "python"
    }
  },
  "cells": [
    {
      "cell_type": "markdown",
      "metadata": {
        "id": "view-in-github",
        "colab_type": "text"
      },
      "source": [
        "<a href=\"https://colab.research.google.com/github/HAdeelAli11/masar/blob/main/Quiz1.ipynb\" target=\"_parent\"><img src=\"https://colab.research.google.com/assets/colab-badge.svg\" alt=\"Open In Colab\"/></a>"
      ]
    },
    {
      "cell_type": "code",
      "execution_count": 11,
      "metadata": {
        "id": "xApMGfTUxSrp",
        "outputId": "922de3bd-f930-4959-e1bc-495f35b8f650",
        "colab": {
          "base_uri": "https://localhost:8080/"
        }
      },
      "outputs": [
        {
          "output_type": "stream",
          "name": "stdout",
          "text": [
            "[5, 0]\n"
          ]
        }
      ],
      "source": [
        "from typing import List\n",
        "class Solution:\n",
        "  a =(List)\n",
        "def two_sum(nums: List[int], target: int) -> List[int]:\n",
        "       seen = {}\n",
        "       for i, value in enumerate(nums):\n",
        "           remaining = target - nums[i]\n",
        "\n",
        "           if remaining in seen:\n",
        "               return [i, seen[remaining]]\n",
        "\n",
        "           seen[value] = i\n",
        "           nums = [2, 5, 11, 15,6,7,9,10]\n",
        "target = 9\n",
        "print(two_sum(nums, target))"
      ]
    }
  ]
}