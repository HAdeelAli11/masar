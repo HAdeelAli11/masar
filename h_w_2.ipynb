{
  "nbformat": 4,
  "nbformat_minor": 0,
  "metadata": {
    "colab": {
      "provenance": [],
      "authorship_tag": "ABX9TyPAUQ8ujIxmPCRucU/k80TT",
      "include_colab_link": true
    },
    "kernelspec": {
      "name": "python3",
      "display_name": "Python 3"
    },
    "language_info": {
      "name": "python"
    }
  },
  "cells": [
    {
      "cell_type": "markdown",
      "metadata": {
        "id": "view-in-github",
        "colab_type": "text"
      },
      "source": [
        "<a href=\"https://colab.research.google.com/github/HAdeelAli11/masar/blob/main/h_w_2.ipynb\" target=\"_parent\"><img src=\"https://colab.research.google.com/assets/colab-badge.svg\" alt=\"Open In Colab\"/></a>"
      ]
    },
    {
      "cell_type": "code",
      "source": [
        "import numpy as np\n",
        "def bonus(years, evaluation):\n",
        "    if years <= 10:\n",
        "        bonus = np.select([evaluation == \"ممتاز\", evaluation == \"ضعيف\"], [0.10, 0.05], default=0)\n",
        "    else:\n",
        "        bonus = np.select([evaluation == \"ممتاز\", evaluation == \"ضعيف\"], [0.20, 0.15], default=0)\n",
        "    return bonus\n",
        "emp_years = 1\n",
        "emp_evaluation = \"ضعيف\"\n",
        "bonus = calculate_bonus(emp_years, emp_evaluation)\n",
        "print(f\"معدل المكافأة: {bonus * 100}%\")\n"
      ],
      "metadata": {
        "id": "rTMWxus21qhQ",
        "outputId": "e5b28f29-8d0b-4a52-a00f-bb957a25f739",
        "colab": {
          "base_uri": "https://localhost:8080/"
        }
      },
      "execution_count": 9,
      "outputs": [
        {
          "output_type": "stream",
          "name": "stdout",
          "text": [
            "معدل المكافأة: 5.0%\n"
          ]
        }
      ]
    }
  ]
}