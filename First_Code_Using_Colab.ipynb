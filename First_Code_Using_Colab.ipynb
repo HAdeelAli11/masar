{
  "nbformat": 4,
  "nbformat_minor": 0,
  "metadata": {
    "colab": {
      "provenance": [],
      "toc_visible": true
    },
    "kernelspec": {
      "name": "python3",
      "display_name": "Python 3"
    },
    "language_info": {
      "name": "python"
    }
  },
  "cells": [
    {
      "cell_type": "markdown",
      "source": [
        "# First code and examples"
      ],
      "metadata": {
        "id": "-lfuiNwLbSUX"
      }
    },
    {
      "cell_type": "code",
      "execution_count": 1,
      "metadata": {
        "colab": {
          "base_uri": "https://localhost:8080/"
        },
        "id": "LZLnUkvCavD9",
        "outputId": "f94d6037-51ac-4a3e-9dea-58ea3528817e"
      },
      "outputs": [
        {
          "output_type": "stream",
          "name": "stdout",
          "text": [
            "Hello Masar!\n"
          ]
        }
      ],
      "source": [
        "# first coding using colab\n",
        "\n",
        "print(\"Hello Masar!\")\n"
      ]
    },
    {
      "cell_type": "markdown",
      "source": [
        "## Simple Examples"
      ],
      "metadata": {
        "id": "rvcHtCW2bby_"
      }
    },
    {
      "cell_type": "code",
      "source": [
        "# Define a variable and print its value\n",
        "x = 5\n",
        "print(x)\n"
      ],
      "metadata": {
        "colab": {
          "base_uri": "https://localhost:8080/"
        },
        "id": "u7vWty1odRKu",
        "outputId": "9f187185-791e-4071-d4a7-6c285ae1c9eb"
      },
      "execution_count": 2,
      "outputs": [
        {
          "output_type": "stream",
          "name": "stdout",
          "text": [
            "5\n"
          ]
        }
      ]
    },
    {
      "cell_type": "code",
      "source": [
        "# Perform a simple calculation and print the result\n",
        "y = x + 3\n",
        "print(y)"
      ],
      "metadata": {
        "colab": {
          "base_uri": "https://localhost:8080/"
        },
        "id": "GlsFpzYpdUok",
        "outputId": "2ea7523c-bafd-44ed-8a6d-f14e89a0f977"
      },
      "execution_count": 3,
      "outputs": [
        {
          "output_type": "stream",
          "name": "stdout",
          "text": [
            "8\n"
          ]
        }
      ]
    },
    {
      "cell_type": "markdown",
      "source": [
        "# Print a simple message"
      ],
      "metadata": {
        "id": "jZDXnrWjdewD"
      }
    },
    {
      "cell_type": "code",
      "source": [
        "# Print a simple message\n",
        "print(\"Hadeel\")"
      ],
      "metadata": {
        "id": "3i-IJBZobjzF",
        "colab": {
          "base_uri": "https://localhost:8080/"
        },
        "outputId": "f95acf64-b614-4a3b-d889-822e97d1026b"
      },
      "execution_count": 5,
      "outputs": [
        {
          "output_type": "stream",
          "name": "stdout",
          "text": [
            "Hadeel\n"
          ]
        }
      ]
    }
  ]
}