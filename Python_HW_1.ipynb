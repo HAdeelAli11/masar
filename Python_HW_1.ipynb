{
  "nbformat": 4,
  "nbformat_minor": 0,
  "metadata": {
    "colab": {
      "provenance": [],
      "authorship_tag": "ABX9TyMZ/1oTxUN1roLBcgMoH41G",
      "include_colab_link": true
    },
    "kernelspec": {
      "name": "python3",
      "display_name": "Python 3"
    },
    "language_info": {
      "name": "python"
    }
  },
  "cells": [
    {
      "cell_type": "markdown",
      "metadata": {
        "id": "view-in-github",
        "colab_type": "text"
      },
      "source": [
        "<a href=\"https://colab.research.google.com/github/HAdeelAli11/masar/blob/main/Python_HW_1.ipynb\" target=\"_parent\"><img src=\"https://colab.research.google.com/assets/colab-badge.svg\" alt=\"Open In Colab\"/></a>"
      ]
    },
    {
      "cell_type": "code",
      "execution_count": 2,
      "metadata": {
        "colab": {
          "base_uri": "https://localhost:8080/"
        },
        "id": "QsXFWGTGGXlx",
        "outputId": "3adb8ef6-aed2-4b17-ce16-fb682aece677"
      },
      "outputs": [
        {
          "output_type": "stream",
          "name": "stdout",
          "text": [
            "أهلا بالجميع, أنا اسمي  هديل , عمري 28  سأصبح أفضل عالم بيانات\n"
          ]
        }
      ],
      "source": [
        "#تعريف لمتغير الاسم\n",
        "name = 'هديل'\n",
        "\n",
        "#تعريف لمتغير العمر\n",
        "age = 28\n",
        "age=str(age)\n",
        "\n",
        "#امر طباعة\n",
        "print('أهلا بالجميع, أنا اسمي  ' + name ,', عمري ' + age , ' سأصبح أفضل عالم بيانات')\n",
        "\n"
      ]
    }
  ]
}