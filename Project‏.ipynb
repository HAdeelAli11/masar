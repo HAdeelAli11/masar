{
  "nbformat": 4,
  "nbformat_minor": 0,
  "metadata": {
    "colab": {
      "provenance": [],
      "authorship_tag": "ABX9TyOI2a34OvuYrC/B4+mpJKRz",
      "include_colab_link": true
    },
    "kernelspec": {
      "name": "python3",
      "display_name": "Python 3"
    },
    "language_info": {
      "name": "python"
    }
  },
  "cells": [
    {
      "cell_type": "markdown",
      "metadata": {
        "id": "view-in-github",
        "colab_type": "text"
      },
      "source": [
        "<a href=\"https://colab.research.google.com/github/HAdeelAli11/masar/blob/main/Project%E2%80%8F.ipynb\" target=\"_parent\"><img src=\"https://colab.research.google.com/assets/colab-badge.svg\" alt=\"Open In Colab\"/></a>"
      ]
    },
    {
      "cell_type": "markdown",
      "source": [
        "### **Loops**"
      ],
      "metadata": {
        "id": "qGhvo16dGgIl"
      }
    },
    {
      "cell_type": "markdown",
      "source": [
        "### **Q1.**\n",
        "Loop through and print out all even numbers from the numbers list in the same order they are received. Don't print any numbers that come after 52 in the sequence."
      ],
      "metadata": {
        "id": "Xe-kiAJh_lRD"
      }
    },
    {
      "cell_type": "code",
      "execution_count": 16,
      "metadata": {
        "id": "1IQSLrOmgTY2",
        "colab": {
          "base_uri": "https://localhost:8080/"
        },
        "outputId": "416a51cf-41ca-453a-b2a5-c97105c791a2"
      },
      "outputs": [
        {
          "output_type": "stream",
          "name": "stdout",
          "text": [
            "792\n",
            "974\n",
            "346\n",
            "454\n",
            "698\n",
            "236\n",
            "150\n",
            "698\n",
            "294\n",
            "556\n",
            "712\n",
            "716\n",
            "486\n",
            "642\n",
            "644\n",
            "728\n",
            "208\n"
          ]
        }
      ],
      "source": [
        "nums = [229, 792, 857, 579, 974, 346, 649, 454, 698, 347, 236, 297, 150, 698, 294, 663, 556, 712, 271, 283, 705, 347, 725, 716, 486, 642, 644, 728, 409, 208, 421, 799, 52, 796, 441, 374, 60, 948, 143, 698, 934, 561, 917, 678, 666, 476, 23, 743, 836, 655, 971, 372, 215, 567, 462, 127, 208, 683, 618, 96, 329, 92, 934, 992, 120, 944, 605, 78, 87, 216, 62, 919, 462, 597, 671, 493, 540, 451, 885, 375, 606, 90, 607, 443, 240, 708, 674, 111, 165, 858, 799, 39, 383, 602, 695, 689, 726, 344, 2, 335]\n",
        "\n",
        "for a in nums:\n",
        "  if a == 52:\n",
        "      break\n",
        "  if a % 2 == 0:\n",
        "    print(a)"
      ]
    },
    {
      "cell_type": "markdown",
      "source": [
        "### **Q2.**\n",
        "Prints out 0,1,2,3,4,...,9 and then it prints \"count value reached 10\""
      ],
      "metadata": {
        "id": "qhQh4D1Z_vg1"
      }
    },
    {
      "cell_type": "code",
      "source": [
        "counter = 0\n",
        "while counter < 10 :\n",
        "  print(counter)\n",
        "  counter += 1\n",
        "\n"
      ],
      "metadata": {
        "colab": {
          "base_uri": "https://localhost:8080/"
        },
        "id": "W3xMYyFVAq4D",
        "outputId": "1b917372-2df2-4e46-e9cb-0e8a72e9171a"
      },
      "execution_count": 23,
      "outputs": [
        {
          "output_type": "stream",
          "name": "stdout",
          "text": [
            "0\n",
            "1\n",
            "2\n",
            "3\n",
            "4\n",
            "5\n",
            "6\n",
            "7\n",
            "8\n",
            "9\n"
          ]
        }
      ]
    },
    {
      "cell_type": "markdown",
      "source": [
        "### **Function**"
      ],
      "metadata": {
        "id": "M2JBJfE-CmY2"
      }
    },
    {
      "cell_type": "markdown",
      "source": [
        "### **Q1.**\n",
        "Write a Python function that takes a list and returns a new list with distinct elements from the first list."
      ],
      "metadata": {
        "id": "QoF6q30tCshm"
      }
    },
    {
      "cell_type": "code",
      "source": [
        "def uniq(list_given):\n",
        "  return set (list_given)\n"
      ],
      "metadata": {
        "id": "PJePqvylCaJN"
      },
      "execution_count": 27,
      "outputs": []
    },
    {
      "cell_type": "code",
      "source": [
        "uniq([1,2,3,3,3,3,4,5])"
      ],
      "metadata": {
        "colab": {
          "base_uri": "https://localhost:8080/"
        },
        "id": "G6K1VmaaEEQ7",
        "outputId": "578cea97-e817-4d83-8975-f56695d5422a"
      },
      "execution_count": 28,
      "outputs": [
        {
          "output_type": "execute_result",
          "data": {
            "text/plain": [
              "{1, 2, 3, 4, 5}"
            ]
          },
          "metadata": {},
          "execution_count": 28
        }
      ]
    },
    {
      "cell_type": "markdown",
      "source": [
        "### **Q2.**\n",
        "function to find the factorial of a number"
      ],
      "metadata": {
        "id": "7XYRQyFqEMc4"
      }
    },
    {
      "cell_type": "code",
      "source": [
        "def fact(i):\n",
        "  if i==0:\n",
        "    return 1\n",
        "  else:\n",
        "    return i*fact(i-1)\n",
        "number=0\n",
        "print(\"The factorial of\",number,\"=\",fact(number))"
      ],
      "metadata": {
        "colab": {
          "base_uri": "https://localhost:8080/"
        },
        "id": "_15K_KDnEXB8",
        "outputId": "920126a0-6788-4620-d0dd-3a621c56ce4c"
      },
      "execution_count": 30,
      "outputs": [
        {
          "output_type": "stream",
          "name": "stdout",
          "text": [
            "The factorial of 0 = 1\n"
          ]
        }
      ]
    },
    {
      "cell_type": "markdown",
      "source": [
        "### **Quiz**\n",
        "Write a Python function called even_squares that takes a list of integers as input and returns a new list containing the squares of even numbers from the original list."
      ],
      "metadata": {
        "id": "oY90nXw9FtvE"
      }
    },
    {
      "cell_type": "code",
      "source": [
        "def even_squares(number):\n",
        "  EvenSquareList=[]\n",
        "  for a in number:\n",
        "    if a % 2 == 0:\n",
        "      sequare=int(a**2)\n",
        "      EvenSquareList.append(sequare)\n",
        "  return EvenSquareList\n",
        "number = [1, 2, 3, 4, 5, 6, 7, 8, 9, 10]\n",
        "result = even_squares(number)\n",
        "print(result)"
      ],
      "metadata": {
        "colab": {
          "base_uri": "https://localhost:8080/"
        },
        "id": "H4NV33iCFwQH",
        "outputId": "0a90b9bb-b51f-448d-c1cb-6b38b61b818e"
      },
      "execution_count": 34,
      "outputs": [
        {
          "output_type": "stream",
          "name": "stdout",
          "text": [
            "[4, 16, 36, 64, 100]\n"
          ]
        }
      ]
    }
  ]
}